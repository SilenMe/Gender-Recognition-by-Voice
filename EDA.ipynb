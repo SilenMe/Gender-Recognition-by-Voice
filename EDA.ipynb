{
 "cells": [
  {
   "cell_type": "code",
   "execution_count": 1,
   "metadata": {},
   "outputs": [],
   "source": [
    "DATASET_PATH = 'Dataset/'"
   ]
  },
  {
   "cell_type": "code",
   "execution_count": 3,
   "metadata": {},
   "outputs": [],
   "source": [
    "import pandas as pd\n",
    "from scipy.io import wavfile\n",
    "import os\n",
    "import matplotlib.pyplot as plt\n",
    "import numpy as np\n",
    "import seaborn as sns\n",
    "\n",
    "sns.set(style=\"whitegrid\", color_codes=True)\n",
    "%matplotlib inline\n",
    "\n",
    "# set seed for reproducibility\n",
    "np.random.seed(0)"
   ]
  },
  {
   "cell_type": "code",
   "execution_count": 12,
   "metadata": {},
   "outputs": [
    {
     "name": "stdout",
     "output_type": "stream",
     "text": [
      "cv-invalid\n",
      "cv-invalid.csv\n",
      "cv-other-dev\n",
      "cv-other-dev.csv\n",
      "cv-other-test\n",
      "cv-other-test.csv\n",
      "cv-other-train\n",
      "cv-other-train.csv\n",
      "cv-valid-dev\n",
      "cv-valid-dev.csv\n",
      "cv-valid-test\n",
      "cv-valid-test.csv\n",
      "cv-valid-train\n",
      "cv-valid-train.csv\n",
      "LICENSE.txt\n",
      "README.txt\n"
     ]
    }
   ],
   "source": [
    "# print the content of \n",
    "contents = os.listdir(DATASET_PATH)\n",
    "for c in contents:\n",
    "    print(c)"
   ]
  },
  {
   "cell_type": "code",
   "execution_count": 16,
   "metadata": {},
   "outputs": [],
   "source": [
    "# import datasets\n",
    "df_train = pd.read_csv(DATASET_PATH + 'cv-valid-train.csv')\n",
    "df_test = pd.read_csv(DATASET_PATH + 'cv-valid-test.csv')"
   ]
  },
  {
   "cell_type": "code",
   "execution_count": 17,
   "metadata": {},
   "outputs": [
    {
     "name": "stdout",
     "output_type": "stream",
     "text": [
      "Train set shape: (195776, 8)\n",
      "Test set shape: (3995, 8)\n"
     ]
    }
   ],
   "source": [
    "print(f'Train set shape: {df_train.shape}')\n",
    "print(f'Test set shape: {df_test.shape}')"
   ]
  },
  {
   "cell_type": "code",
   "execution_count": null,
   "metadata": {},
   "outputs": [],
   "source": []
  }
 ],
 "metadata": {
  "kernelspec": {
   "display_name": "Python 3",
   "language": "python",
   "name": "python3"
  },
  "language_info": {
   "codemirror_mode": {
    "name": "ipython",
    "version": 3
   },
   "file_extension": ".py",
   "mimetype": "text/x-python",
   "name": "python",
   "nbconvert_exporter": "python",
   "pygments_lexer": "ipython3",
   "version": "3.7.6"
  }
 },
 "nbformat": 4,
 "nbformat_minor": 4
}
